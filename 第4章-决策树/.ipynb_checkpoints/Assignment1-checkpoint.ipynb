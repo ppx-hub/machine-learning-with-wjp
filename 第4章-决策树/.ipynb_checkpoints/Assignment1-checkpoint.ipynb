{
 "cells": [
  {
   "cell_type": "markdown",
   "metadata": {},
   "source": [
    "# 一元线性回归"
   ]
  },
  {
   "cell_type": "markdown",
   "metadata": {},
   "source": [
    "基本形式\n",
    "$$\\tag{1}\n",
    "f(\\mathbf{x}) = w_1 x_1 + w_2 x_2 + ... + w_d x_d + b\n",
    "$$\n",
    "向量形式\n",
    "$$\\tag{2}\n",
    "f(\\mathbf{x}) = \\mathbf{w}^\\mathrm{T}\\mathbf{x}+b\n",
    "$$\n",
    "其中$\\mathbf{w} = (w_1; w_2; ...; w_d)$.\n",
    "\n",
    "针对一元线性回归，我们有\n",
    "$$\\tag{3}\n",
    "f(x) = w x + b$$"
   ]
  },
  {
   "cell_type": "markdown",
   "metadata": {},
   "source": [
    "## 1. 读取数据\n",
    "数据处理包括：数据分析、清理，数据集划分等"
   ]
  },
  {
   "cell_type": "code",
   "execution_count": 4,
   "metadata": {
    "ExecuteTime": {
     "end_time": "2019-09-27T06:31:44.982355Z",
     "start_time": "2019-09-27T06:31:44.979358Z"
    }
   },
   "outputs": [],
   "source": [
    "import numpy as np"
   ]
  },
  {
   "cell_type": "markdown",
   "metadata": {},
   "source": [
    "数据说明：https://www.kesci.com/home/dataset/5d0749ace727f8002c6a207f"
   ]
  },
  {
   "cell_type": "code",
   "execution_count": 5,
   "metadata": {
    "ExecuteTime": {
     "end_time": "2019-09-27T06:31:46.491357Z",
     "start_time": "2019-09-27T06:31:45.135356Z"
    }
   },
   "outputs": [
    {
     "data": {
      "text/html": [
       "<div>\n",
       "<style scoped>\n",
       "    .dataframe tbody tr th:only-of-type {\n",
       "        vertical-align: middle;\n",
       "    }\n",
       "\n",
       "    .dataframe tbody tr th {\n",
       "        vertical-align: top;\n",
       "    }\n",
       "\n",
       "    .dataframe thead th {\n",
       "        text-align: right;\n",
       "    }\n",
       "</style>\n",
       "<table border=\"1\" class=\"dataframe\">\n",
       "  <thead>\n",
       "    <tr style=\"text-align: right;\">\n",
       "      <th></th>\n",
       "      <th>Id</th>\n",
       "      <th>MSSubClass</th>\n",
       "      <th>MSZoning</th>\n",
       "      <th>LotFrontage</th>\n",
       "      <th>LotArea</th>\n",
       "      <th>Street</th>\n",
       "      <th>Alley</th>\n",
       "      <th>LotShape</th>\n",
       "      <th>LandContour</th>\n",
       "      <th>Utilities</th>\n",
       "      <th>...</th>\n",
       "      <th>PoolArea</th>\n",
       "      <th>PoolQC</th>\n",
       "      <th>Fence</th>\n",
       "      <th>MiscFeature</th>\n",
       "      <th>MiscVal</th>\n",
       "      <th>MoSold</th>\n",
       "      <th>YrSold</th>\n",
       "      <th>SaleType</th>\n",
       "      <th>SaleCondition</th>\n",
       "      <th>SalePrice</th>\n",
       "    </tr>\n",
       "  </thead>\n",
       "  <tbody>\n",
       "    <tr>\n",
       "      <th>0</th>\n",
       "      <td>1</td>\n",
       "      <td>60</td>\n",
       "      <td>RL</td>\n",
       "      <td>65.0</td>\n",
       "      <td>8450</td>\n",
       "      <td>Pave</td>\n",
       "      <td>NaN</td>\n",
       "      <td>Reg</td>\n",
       "      <td>Lvl</td>\n",
       "      <td>AllPub</td>\n",
       "      <td>...</td>\n",
       "      <td>0</td>\n",
       "      <td>NaN</td>\n",
       "      <td>NaN</td>\n",
       "      <td>NaN</td>\n",
       "      <td>0</td>\n",
       "      <td>2</td>\n",
       "      <td>2008</td>\n",
       "      <td>WD</td>\n",
       "      <td>Normal</td>\n",
       "      <td>208500</td>\n",
       "    </tr>\n",
       "    <tr>\n",
       "      <th>1</th>\n",
       "      <td>2</td>\n",
       "      <td>20</td>\n",
       "      <td>RL</td>\n",
       "      <td>80.0</td>\n",
       "      <td>9600</td>\n",
       "      <td>Pave</td>\n",
       "      <td>NaN</td>\n",
       "      <td>Reg</td>\n",
       "      <td>Lvl</td>\n",
       "      <td>AllPub</td>\n",
       "      <td>...</td>\n",
       "      <td>0</td>\n",
       "      <td>NaN</td>\n",
       "      <td>NaN</td>\n",
       "      <td>NaN</td>\n",
       "      <td>0</td>\n",
       "      <td>5</td>\n",
       "      <td>2007</td>\n",
       "      <td>WD</td>\n",
       "      <td>Normal</td>\n",
       "      <td>181500</td>\n",
       "    </tr>\n",
       "    <tr>\n",
       "      <th>2</th>\n",
       "      <td>3</td>\n",
       "      <td>60</td>\n",
       "      <td>RL</td>\n",
       "      <td>68.0</td>\n",
       "      <td>11250</td>\n",
       "      <td>Pave</td>\n",
       "      <td>NaN</td>\n",
       "      <td>IR1</td>\n",
       "      <td>Lvl</td>\n",
       "      <td>AllPub</td>\n",
       "      <td>...</td>\n",
       "      <td>0</td>\n",
       "      <td>NaN</td>\n",
       "      <td>NaN</td>\n",
       "      <td>NaN</td>\n",
       "      <td>0</td>\n",
       "      <td>9</td>\n",
       "      <td>2008</td>\n",
       "      <td>WD</td>\n",
       "      <td>Normal</td>\n",
       "      <td>223500</td>\n",
       "    </tr>\n",
       "    <tr>\n",
       "      <th>3</th>\n",
       "      <td>4</td>\n",
       "      <td>70</td>\n",
       "      <td>RL</td>\n",
       "      <td>60.0</td>\n",
       "      <td>9550</td>\n",
       "      <td>Pave</td>\n",
       "      <td>NaN</td>\n",
       "      <td>IR1</td>\n",
       "      <td>Lvl</td>\n",
       "      <td>AllPub</td>\n",
       "      <td>...</td>\n",
       "      <td>0</td>\n",
       "      <td>NaN</td>\n",
       "      <td>NaN</td>\n",
       "      <td>NaN</td>\n",
       "      <td>0</td>\n",
       "      <td>2</td>\n",
       "      <td>2006</td>\n",
       "      <td>WD</td>\n",
       "      <td>Abnorml</td>\n",
       "      <td>140000</td>\n",
       "    </tr>\n",
       "    <tr>\n",
       "      <th>4</th>\n",
       "      <td>5</td>\n",
       "      <td>60</td>\n",
       "      <td>RL</td>\n",
       "      <td>84.0</td>\n",
       "      <td>14260</td>\n",
       "      <td>Pave</td>\n",
       "      <td>NaN</td>\n",
       "      <td>IR1</td>\n",
       "      <td>Lvl</td>\n",
       "      <td>AllPub</td>\n",
       "      <td>...</td>\n",
       "      <td>0</td>\n",
       "      <td>NaN</td>\n",
       "      <td>NaN</td>\n",
       "      <td>NaN</td>\n",
       "      <td>0</td>\n",
       "      <td>12</td>\n",
       "      <td>2008</td>\n",
       "      <td>WD</td>\n",
       "      <td>Normal</td>\n",
       "      <td>250000</td>\n",
       "    </tr>\n",
       "  </tbody>\n",
       "</table>\n",
       "<p>5 rows × 81 columns</p>\n",
       "</div>"
      ],
      "text/plain": [
       "   Id  MSSubClass MSZoning  LotFrontage  LotArea Street Alley LotShape  \\\n",
       "0   1          60       RL         65.0     8450   Pave   NaN      Reg   \n",
       "1   2          20       RL         80.0     9600   Pave   NaN      Reg   \n",
       "2   3          60       RL         68.0    11250   Pave   NaN      IR1   \n",
       "3   4          70       RL         60.0     9550   Pave   NaN      IR1   \n",
       "4   5          60       RL         84.0    14260   Pave   NaN      IR1   \n",
       "\n",
       "  LandContour Utilities    ...     PoolArea PoolQC Fence MiscFeature MiscVal  \\\n",
       "0         Lvl    AllPub    ...            0    NaN   NaN         NaN       0   \n",
       "1         Lvl    AllPub    ...            0    NaN   NaN         NaN       0   \n",
       "2         Lvl    AllPub    ...            0    NaN   NaN         NaN       0   \n",
       "3         Lvl    AllPub    ...            0    NaN   NaN         NaN       0   \n",
       "4         Lvl    AllPub    ...            0    NaN   NaN         NaN       0   \n",
       "\n",
       "  MoSold YrSold  SaleType  SaleCondition  SalePrice  \n",
       "0      2   2008        WD         Normal     208500  \n",
       "1      5   2007        WD         Normal     181500  \n",
       "2      9   2008        WD         Normal     223500  \n",
       "3      2   2006        WD        Abnorml     140000  \n",
       "4     12   2008        WD         Normal     250000  \n",
       "\n",
       "[5 rows x 81 columns]"
      ]
     },
     "execution_count": 5,
     "metadata": {},
     "output_type": "execute_result"
    }
   ],
   "source": [
    "import pandas as pd\n",
    "\n",
    "# 使用pandas读取csv数据\n",
    "data = pd.read_csv('data/kaggle_house_price_prediction/kaggle_hourse_price_train.csv')\n",
    "# 打印前5行\n",
    "data.head()"
   ]
  },
  {
   "cell_type": "code",
   "execution_count": 6,
   "metadata": {
    "ExecuteTime": {
     "end_time": "2019-09-27T06:31:46.542355Z",
     "start_time": "2019-09-27T06:31:46.501361Z"
    }
   },
   "outputs": [],
   "source": [
    "# 丢弃有缺失值的特征（列）\n",
    "data.dropna(axis = 1, inplace = True)\n",
    "\n",
    "# 只保留整数的特征\n",
    "data = data[[col for col in data.dtypes.index if data.dtypes[col] == 'int64']]\n",
    "# 上下等价\n",
    "# idx_list = []\n",
    "# for col in data.dtypes.index:\n",
    "#     if data.dtypes[col] == 'int64':\n",
    "#         idx_list.append(col)\n",
    "# data = data[idx_list]\n"
   ]
  },
  {
   "cell_type": "markdown",
   "metadata": {},
   "source": [
    "本题的要求是，针对LotArea, BsmtUnfSF, GarageArea三个特征，使用训练集训练三个一元线性回归模型，对比其在测试集上的MAE和RMSE，并且要绘制曲线。"
   ]
  },
  {
   "cell_type": "markdown",
   "metadata": {},
   "source": [
    "所以我们只保留这三列与标记这一列，总共四列的数据即可"
   ]
  },
  {
   "cell_type": "code",
   "execution_count": 7,
   "metadata": {
    "ExecuteTime": {
     "end_time": "2019-09-27T06:31:46.566358Z",
     "start_time": "2019-09-27T06:31:46.547358Z"
    }
   },
   "outputs": [
    {
     "data": {
      "text/html": [
       "<div>\n",
       "<style scoped>\n",
       "    .dataframe tbody tr th:only-of-type {\n",
       "        vertical-align: middle;\n",
       "    }\n",
       "\n",
       "    .dataframe tbody tr th {\n",
       "        vertical-align: top;\n",
       "    }\n",
       "\n",
       "    .dataframe thead th {\n",
       "        text-align: right;\n",
       "    }\n",
       "</style>\n",
       "<table border=\"1\" class=\"dataframe\">\n",
       "  <thead>\n",
       "    <tr style=\"text-align: right;\">\n",
       "      <th></th>\n",
       "      <th>LotArea</th>\n",
       "      <th>BsmtUnfSF</th>\n",
       "      <th>GarageArea</th>\n",
       "      <th>SalePrice</th>\n",
       "    </tr>\n",
       "  </thead>\n",
       "  <tbody>\n",
       "    <tr>\n",
       "      <th>0</th>\n",
       "      <td>8450</td>\n",
       "      <td>150</td>\n",
       "      <td>548</td>\n",
       "      <td>208500</td>\n",
       "    </tr>\n",
       "    <tr>\n",
       "      <th>1</th>\n",
       "      <td>9600</td>\n",
       "      <td>284</td>\n",
       "      <td>460</td>\n",
       "      <td>181500</td>\n",
       "    </tr>\n",
       "    <tr>\n",
       "      <th>2</th>\n",
       "      <td>11250</td>\n",
       "      <td>434</td>\n",
       "      <td>608</td>\n",
       "      <td>223500</td>\n",
       "    </tr>\n",
       "    <tr>\n",
       "      <th>3</th>\n",
       "      <td>9550</td>\n",
       "      <td>540</td>\n",
       "      <td>642</td>\n",
       "      <td>140000</td>\n",
       "    </tr>\n",
       "    <tr>\n",
       "      <th>4</th>\n",
       "      <td>14260</td>\n",
       "      <td>490</td>\n",
       "      <td>836</td>\n",
       "      <td>250000</td>\n",
       "    </tr>\n",
       "  </tbody>\n",
       "</table>\n",
       "</div>"
      ],
      "text/plain": [
       "   LotArea  BsmtUnfSF  GarageArea  SalePrice\n",
       "0     8450        150         548     208500\n",
       "1     9600        284         460     181500\n",
       "2    11250        434         608     223500\n",
       "3     9550        540         642     140000\n",
       "4    14260        490         836     250000"
      ]
     },
     "execution_count": 7,
     "metadata": {},
     "output_type": "execute_result"
    }
   ],
   "source": [
    "# 地块尺寸 未完成的地下室平方英尺 车库的面积\n",
    "features = ['LotArea', 'BsmtUnfSF', 'GarageArea']\n",
    "target = 'SalePrice'\n",
    "data = data[features + [target]]\n",
    "data.head()"
   ]
  },
  {
   "cell_type": "markdown",
   "metadata": {},
   "source": [
    "## 2. 打乱数据顺序"
   ]
  },
  {
   "cell_type": "code",
   "execution_count": 8,
   "metadata": {
    "ExecuteTime": {
     "end_time": "2019-09-27T06:31:48.231443Z",
     "start_time": "2019-09-27T06:31:48.226437Z"
    }
   },
   "outputs": [],
   "source": [
    "from sklearn.utils import shuffle"
   ]
  },
  {
   "cell_type": "code",
   "execution_count": 9,
   "metadata": {
    "ExecuteTime": {
     "end_time": "2019-09-27T06:31:48.586440Z",
     "start_time": "2019-09-27T06:31:48.580447Z"
    }
   },
   "outputs": [],
   "source": [
    "data_shuffled = shuffle(data, random_state = 32) # 这个32不要改变"
   ]
  },
  {
   "cell_type": "code",
   "execution_count": 10,
   "metadata": {
    "ExecuteTime": {
     "end_time": "2019-09-27T06:31:57.349293Z",
     "start_time": "2019-09-27T06:31:57.338331Z"
    }
   },
   "outputs": [
    {
     "data": {
      "text/html": [
       "<div>\n",
       "<style scoped>\n",
       "    .dataframe tbody tr th:only-of-type {\n",
       "        vertical-align: middle;\n",
       "    }\n",
       "\n",
       "    .dataframe tbody tr th {\n",
       "        vertical-align: top;\n",
       "    }\n",
       "\n",
       "    .dataframe thead th {\n",
       "        text-align: right;\n",
       "    }\n",
       "</style>\n",
       "<table border=\"1\" class=\"dataframe\">\n",
       "  <thead>\n",
       "    <tr style=\"text-align: right;\">\n",
       "      <th></th>\n",
       "      <th>LotArea</th>\n",
       "      <th>BsmtUnfSF</th>\n",
       "      <th>GarageArea</th>\n",
       "      <th>SalePrice</th>\n",
       "    </tr>\n",
       "  </thead>\n",
       "  <tbody>\n",
       "    <tr>\n",
       "      <th>363</th>\n",
       "      <td>1680</td>\n",
       "      <td>321</td>\n",
       "      <td>264</td>\n",
       "      <td>118000</td>\n",
       "    </tr>\n",
       "    <tr>\n",
       "      <th>529</th>\n",
       "      <td>32668</td>\n",
       "      <td>816</td>\n",
       "      <td>484</td>\n",
       "      <td>200624</td>\n",
       "    </tr>\n",
       "    <tr>\n",
       "      <th>1394</th>\n",
       "      <td>4045</td>\n",
       "      <td>286</td>\n",
       "      <td>648</td>\n",
       "      <td>246578</td>\n",
       "    </tr>\n",
       "    <tr>\n",
       "      <th>803</th>\n",
       "      <td>13891</td>\n",
       "      <td>1734</td>\n",
       "      <td>1020</td>\n",
       "      <td>582933</td>\n",
       "    </tr>\n",
       "    <tr>\n",
       "      <th>832</th>\n",
       "      <td>9548</td>\n",
       "      <td>458</td>\n",
       "      <td>613</td>\n",
       "      <td>237000</td>\n",
       "    </tr>\n",
       "  </tbody>\n",
       "</table>\n",
       "</div>"
      ],
      "text/plain": [
       "      LotArea  BsmtUnfSF  GarageArea  SalePrice\n",
       "363      1680        321         264     118000\n",
       "529     32668        816         484     200624\n",
       "1394     4045        286         648     246578\n",
       "803     13891       1734        1020     582933\n",
       "832      9548        458         613     237000"
      ]
     },
     "execution_count": 10,
     "metadata": {},
     "output_type": "execute_result"
    }
   ],
   "source": [
    "data_shuffled.head()"
   ]
  },
  {
   "cell_type": "markdown",
   "metadata": {},
   "source": [
    "## 3. 取前70%的数据为训练集，后30%为测试集"
   ]
  },
  {
   "cell_type": "code",
   "execution_count": 14,
   "metadata": {
    "ExecuteTime": {
     "end_time": "2019-09-27T06:42:25.586080Z",
     "start_time": "2019-09-27T06:42:25.577116Z"
    }
   },
   "outputs": [
    {
     "data": {
      "text/plain": [
       "(1460, 4)"
      ]
     },
     "execution_count": 14,
     "metadata": {},
     "output_type": "execute_result"
    }
   ],
   "source": [
    "num_of_samples = data_shuffled.shape[0]\n",
    "split_line = int(num_of_samples * 0.7)\n",
    "train_data = data.iloc[:split_line]\n",
    "test_data = data.iloc[split_line:]\n",
    "data.shape"
   ]
  },
  {
   "cell_type": "code",
   "execution_count": 12,
   "metadata": {
    "ExecuteTime": {
     "end_time": "2019-09-27T06:31:58.497295Z",
     "start_time": "2019-09-27T06:31:58.490292Z"
    }
   },
   "outputs": [
    {
     "data": {
      "text/plain": [
       "(1021, 4)"
      ]
     },
     "execution_count": 12,
     "metadata": {},
     "output_type": "execute_result"
    }
   ],
   "source": [
    "train_data.shape"
   ]
  },
  {
   "cell_type": "code",
   "execution_count": 13,
   "metadata": {
    "ExecuteTime": {
     "end_time": "2019-09-27T06:31:58.945295Z",
     "start_time": "2019-09-27T06:31:58.938293Z"
    }
   },
   "outputs": [
    {
     "data": {
      "text/plain": [
       "(439, 4)"
      ]
     },
     "execution_count": 13,
     "metadata": {},
     "output_type": "execute_result"
    }
   ],
   "source": [
    "test_data.shape"
   ]
  },
  {
   "cell_type": "markdown",
   "metadata": {},
   "source": [
    "## 4. 编写模型"
   ]
  },
  {
   "cell_type": "markdown",
   "metadata": {},
   "source": [
    "我们以类(class)的形式编写这个模型，python中的类很简单，只不过这个类里面需要调用两个函数，一个是get_w，这个是计算模型w的函数，另一个是get_b，计算模型b的函数，需要大家来完成。"
   ]
  },
  {
   "cell_type": "markdown",
   "metadata": {},
   "source": [
    "本实验要求使用最小二乘法求解一元线性回归模型  \n",
    "求解$w$和$b$使均方误差$E_{(w,b)} = \\sum^m_{i=1}(y_i - wx_i - b)^2$最小化的过程，称为线性回归模型的最小二乘“参数估计”(parameter estimation)。我们可将$E_{(w,b)}$分别对$w$和$b$求导，得到\n",
    "$$\\tag{4}\n",
    "\\frac{\\partial E_{(w,b)}}{\\partial w} = 2(w \\sum^m_{i=1} x^2_i - \\sum^m_{i=1} (y_i - b) x_i),\n",
    "$$\n",
    "\n",
    "$$\\tag{5}\n",
    "\\frac{\\partial E_{(w,b)}}{\\partial b} = 2(mb - \\sum^m_{i=1}(y_i - w x_i))\n",
    "$$\n",
    "\n",
    "然后令式(4)和式(5)为0，可得到$w$和$b$的闭式解(closed-form solution)\n",
    "$$\\tag{6}\n",
    "w = \\frac{\\sum^m_{i=1} y_i(x_i - \\bar{x})}{\\sum^m_{i=1}x^2_i - \\frac{1}{m}(\\sum^m_{i=1}x_i)^2}\n",
    "$$\n",
    "\n",
    "$$\\tag{7}\n",
    "b = \\frac{1}{m}\\sum^m_{i=1}(y_i - w x_i)\n",
    "$$\n",
    "其中，$\\bar{x} = \\frac{1}{m}\\sum^m_{i=1}x_i$为$x$的均值"
   ]
  },
  {
   "cell_type": "markdown",
   "metadata": {},
   "source": [
    "首先编写求解w的函数，传入的参数就是x和y，都是np.ndarray类型的，或是pd.Series类型的（其实都一样）。我们需要大家在下面完成式(6)和式(7)的求解过程，将计算得到的w和b的值返回"
   ]
  },
  {
   "cell_type": "code",
   "execution_count": 26,
   "metadata": {},
   "outputs": [],
   "source": [
    "def get_w(x, y):\n",
    "    '''\n",
    "    这个函数是计算模型w的值的函数，\n",
    "    传入的参数分别是x和y，表示数据与标记\n",
    "    \n",
    "    Parameter\n",
    "    ----------\n",
    "        x: np.ndarray，pd.Series，传入的特征数据\n",
    "\n",
    "        y: np.ndarray, pd.Series，对应的标记\n",
    "    \n",
    "    Returns\n",
    "    ----------\n",
    "        w: float, 模型w的值\n",
    "    '''\n",
    "    \n",
    "    # m表示样本的数量\n",
    "    m = \n",
    "    \n",
    "    # 求x的均值\n",
    "    x_mean = \n",
    "    \n",
    "    # 求w的分子部分\n",
    "    numerator = \n",
    "    \n",
    "    # 求w的分母部分\n",
    "    denominator = \n",
    "    \n",
    "    # 求w\n",
    "    w = \n",
    "    \n",
    "    # 返回w\n",
    "    return w"
   ]
  },
  {
   "cell_type": "code",
   "execution_count": 27,
   "metadata": {},
   "outputs": [],
   "source": [
    "def get_b(x, y, w):\n",
    "    '''\n",
    "    这个函数是计算模型b的值的函数，\n",
    "    传入的参数分别是x, y, w，表示数据，标记以及模型的w值\n",
    "    \n",
    "    Parameter\n",
    "    ----------\n",
    "        x: np.ndarray，pd.Series，传入的特征数据\n",
    "\n",
    "        y: np.ndarray, pd.Series，对应的标记\n",
    "        \n",
    "        w: np.ndarray, pd.Series，模型w的值\n",
    "    \n",
    "    Returns\n",
    "    ----------\n",
    "        b: float, 模型b的值\n",
    "    '''\n",
    "    # 样本个数\n",
    "    m = \n",
    "    \n",
    "    # 求b\n",
    "    b = \n",
    "    \n",
    "    # 返回b\n",
    "    return b"
   ]
  },
  {
   "cell_type": "markdown",
   "metadata": {},
   "source": [
    "下面这个类，就是一个最简单的一元线性回归的类，我们已经帮你实现好了三个方法"
   ]
  },
  {
   "cell_type": "code",
   "execution_count": 28,
   "metadata": {},
   "outputs": [],
   "source": [
    "class myLinearRegression:\n",
    "    def __init__(self):\n",
    "        '''\n",
    "        类的初始化方法，不需要初始化的参数\n",
    "        这里设置了两个成员变量，用来存储模型w和b的值\n",
    "        '''\n",
    "        self.w = None\n",
    "        self.b = None\n",
    "    \n",
    "    def fit(self, x, y):\n",
    "        '''\n",
    "        这里需要编写训练的函数，也就是调用模型的fit方法，传入特征x的数据和标记y的数据\n",
    "        这个方法就可以求解出w和b\n",
    "        '''\n",
    "        self.w = get_w(x, y)\n",
    "        self.b = get_b(x, y, self.w)\n",
    "        \n",
    "    def predict(self, x):\n",
    "        '''\n",
    "        这是预测的函数，传入特征的数据，返回模型预测的结果\n",
    "        '''\n",
    "        if self.w == None or self.b == None:\n",
    "            print(\"模型还未训练，请先调用fit方法训练\")\n",
    "            return \n",
    "        \n",
    "        return self.w * x + self.b"
   ]
  },
  {
   "cell_type": "markdown",
   "metadata": {},
   "source": [
    "## 5. 预测"
   ]
  },
  {
   "cell_type": "code",
   "execution_count": 29,
   "metadata": {},
   "outputs": [],
   "source": [
    "# 创建一个模型的实例\n",
    "model1 = myLinearRegression()\n",
    "\n",
    "# 使用训练集对模型进行训练，传入训练集的LotArea和标记SalePrice\n",
    "model1.fit(train_data['LotArea'], train_data['SalePrice'])\n",
    "\n",
    "# 对测试集进行预测，并将结果存储在变量prediction中\n",
    "prediction1 = model1.predict(test_data['LotArea'])"
   ]
  },
  {
   "cell_type": "markdown",
   "metadata": {},
   "source": [
    "## 6. 性能度量"
   ]
  },
  {
   "cell_type": "markdown",
   "metadata": {},
   "source": [
    "模型训练完成后，还需要在测试集上验证其预测能力，这就需要计算模型的一些性能指标，如MAE和RMSE等。\n",
    "\n",
    "$$\\tag{8}\n",
    "MAE(\\hat{y}, y) = \\frac{1}{m} \\sum^m_{i=1} \\vert \\hat{y} - y \\vert\n",
    "$$\n",
    "\n",
    "$$\\tag{9}\n",
    "RMSE(\\hat{y}, y) = \\sqrt{\\frac{1}{m} \\sum^m_{i=1} (\\hat{y} - y)^2}\n",
    "$$\n",
    "其中，$\\hat{y}$是模型的预测值，$y$是真值，$m$是样本数"
   ]
  },
  {
   "cell_type": "code",
   "execution_count": 30,
   "metadata": {},
   "outputs": [],
   "source": [
    "def MAE(y_hat, y):\n",
    "    # 请你完成MAE的计算过程\n",
    "    # YOUR CODE HERE\n",
    "    return "
   ]
  },
  {
   "cell_type": "code",
   "execution_count": 31,
   "metadata": {},
   "outputs": [],
   "source": [
    "def RMSE(y_hat, y):\n",
    "    # 请你完成RMSE的计算过程\n",
    "    # YOUR CODE HERE\n",
    "    return"
   ]
  },
  {
   "cell_type": "markdown",
   "metadata": {},
   "source": [
    "在此计算出模型在测试集上的MAE与RMSE值"
   ]
  },
  {
   "cell_type": "code",
   "execution_count": 32,
   "metadata": {},
   "outputs": [
    {
     "name": "stdout",
     "output_type": "stream",
     "text": [
      "模型1，特征：LotArea\n",
      "MAE: 53912.82183112652\n",
      "RMSE: 75795.63312280484\n"
     ]
    }
   ],
   "source": [
    "mae1 = MAE(prediction1, test_data['SalePrice'])\n",
    "rmse1 = RMSE(prediction1, test_data['SalePrice'])\n",
    "print(\"模型1，特征：LotArea\")\n",
    "print(\"MAE:\", mae1)\n",
    "print(\"RMSE:\", rmse1)"
   ]
  },
  {
   "cell_type": "markdown",
   "metadata": {},
   "source": [
    "## 7. 模型预测效果可视化"
   ]
  },
  {
   "cell_type": "code",
   "execution_count": 33,
   "metadata": {},
   "outputs": [],
   "source": [
    "import matplotlib.pyplot as plt\n",
    "%matplotlib inline"
   ]
  },
  {
   "cell_type": "code",
   "execution_count": 34,
   "metadata": {},
   "outputs": [
    {
     "data": {
      "text/plain": [
       "<matplotlib.legend.Legend at 0x7fbe2c601780>"
      ]
     },
     "execution_count": 34,
     "metadata": {},
     "output_type": "execute_result"
    },
    {
     "data": {
      "image/png": "[encoded data removed]",
      "text/plain": [
       "<Figure size 1152x432 with 2 Axes>"
      ]
     },
     "metadata": {},
     "output_type": "display_data"
    }
   ],
   "source": [
    "# 创建新的图\n",
    "plt.figure(figsize = (16, 6))\n",
    "\n",
    "# 创建子图1\n",
    "plt.subplot(121) # 121分别代表，生成1行2列个图，这是第1个\n",
    "# 其中的参数为横轴值，纵轴值，label为此条曲线的标签， '.' 表示画出的图的图形为散点图\n",
    "plt.plot(train_data['LotArea'].values, train_data['SalePrice'].values, '.', label = 'training data')\n",
    "# '-' 表示画出的图形为折线图\n",
    "plt.plot(train_data['LotArea'].values, model1.predict(train_data['LotArea']), '-', label = 'prediction')\n",
    "plt.xlabel(\"LotArea\")\n",
    "plt.ylabel('SalePrice')\n",
    "plt.title(\"training set\")\n",
    "plt.legend()\n",
    "\n",
    "# 创建子图2\n",
    "plt.subplot(122) # 121分别代表，生成1行2列个图，这是第2个\n",
    "plt.plot(test_data['LotArea'].values, test_data['SalePrice'].values, '.', label = 'testing data')\n",
    "plt.plot(test_data['LotArea'].values, prediction1, '-', label = 'prediction')\n",
    "plt.xlabel(\"LotArea\")\n",
    "plt.ylabel('SalePrice')\n",
    "plt.title(\"testing set\")\n",
    "plt.legend()"
   ]
  },
  {
   "cell_type": "markdown",
   "metadata": {},
   "source": [
    "### 通过左右两图的对比，分析该模型出现的问题，并给出能帮助模型更好的做预测的方案(选做)\n",
    "###### 双击此处展开讨论\n",
    "\n",
    "\n",
    "\n",
    "\n"
   ]
  },
  {
   "cell_type": "markdown",
   "metadata": {},
   "source": [
    "# 使用BsmtUnfSF作为特征，完成模型的训练，指标计算，可视化"
   ]
  },
  {
   "cell_type": "code",
   "execution_count": null,
   "metadata": {},
   "outputs": [],
   "source": [
    "# YOUR CODE HERE\n",
    "\n",
    "\n"
   ]
  },
  {
   "cell_type": "markdown",
   "metadata": {},
   "source": [
    "# 使用GarageArea作为特征，完成模型的训练，指标计算，可视化"
   ]
  },
  {
   "cell_type": "code",
   "execution_count": null,
   "metadata": {},
   "outputs": [],
   "source": [
    "# YOUR CODE HERE\n",
    "\n",
    "\n"
   ]
  },
  {
   "cell_type": "markdown",
   "metadata": {},
   "source": [
    "# 选做：剔除训练集中的离群值(outlier)，然后重新训练模型，观察模型预测性能的变化\n",
    "###### 提示：可以使用下面的代码处理数据"
   ]
  },
  {
   "cell_type": "code",
   "execution_count": null,
   "metadata": {},
   "outputs": [],
   "source": [
    "# YOUR CODE HERE\n",
    "t = train_data[(train_data['LotArea'] < 60000) & (train_data['LotArea'] > 0)] # 将训练集中LotArea小于60000的值存入t\n",
    "t = t[t['SalePrice'] < 500000] # 将t中SalePrice小于500000的值保留\n",
    "\n",
    "# 绘制处理后的数据\n",
    "plt.figure(figsize = (8, 7))\n",
    "plt.plot(t['LotArea'], t['SalePrice'], '.')"
   ]
  },
  {
   "cell_type": "code",
   "execution_count": null,
   "metadata": {},
   "outputs": [],
   "source": []
  }
 ],
 "metadata": {
  "kernelspec": {
   "display_name": "Python 3",
   "language": "python",
   "name": "python3"
  },
  "language_info": {
   "codemirror_mode": {
    "name": "ipython",
    "version": 3
   },
   "file_extension": ".py",
   "mimetype": "text/x-python",
   "name": "python",
   "nbconvert_exporter": "python",
   "pygments_lexer": "ipython3",
   "version": "3.6.5"
  },
  "toc": {
   "base_numbering": 1,
   "nav_menu": {},
   "number_sections": true,
   "sideBar": true,
   "skip_h1_title": false,
   "title_cell": "Table of Contents",
   "title_sidebar": "Contents",
   "toc_cell": false,
   "toc_position": {},
   "toc_section_display": true,
   "toc_window_display": false
  }
 },
 "nbformat": 4,
 "nbformat_minor": 2
}
