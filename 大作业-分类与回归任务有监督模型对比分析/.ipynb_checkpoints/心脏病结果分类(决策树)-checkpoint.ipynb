{
 "cells": [
  {
   "cell_type": "markdown",
   "metadata": {},
   "source": [
    "# 心脏病结果分类（决策树）"
   ]
  },
  {
   "cell_type": "markdown",
   "metadata": {},
   "source": [
    "# 1.读取数据"
   ]
  },
  {
   "cell_type": "code",
   "execution_count": 1,
   "metadata": {},
   "outputs": [],
   "source": [
    "import numpy as np\n",
    "diseaseResults = np.loadtxt('data/heart.csv', delimiter=',')"
   ]
  },
  {
   "cell_type": "code",
   "execution_count": 2,
   "metadata": {},
   "outputs": [],
   "source": [
    "diseasex = diseaseResults[:, 0:-1]\n",
    "diseasey = diseaseResults[:, -1]"
   ]
  },
  {
   "cell_type": "code",
   "execution_count": 3,
   "metadata": {},
   "outputs": [],
   "source": [
    "from sklearn.model_selection import cross_val_predict\n",
    "from sklearn.metrics import accuracy_score\n",
    "from sklearn.metrics import precision_score\n",
    "from sklearn.metrics import recall_score\n",
    "from sklearn.metrics import f1_score\n",
    "from sklearn.tree import DecisionTreeClassifier\n",
    "\n",
    "import pandas as pd\n",
    "import numpy as np\n",
    "import matplotlib.pyplot as plt\n",
    "from sklearn.model_selection import train_test_split, cross_val_score\n",
    "from sklearn.feature_extraction.text import TfidfVectorizer\n",
    "from matplotlib.font_manager import FontProperties"
   ]
  },
  {
   "cell_type": "markdown",
   "metadata": {},
   "source": [
    "# 2.模型建立和性能评价"
   ]
  },
  {
   "cell_type": "code",
   "execution_count": 15,
   "metadata": {},
   "outputs": [
    {
     "name": "stdout",
     "output_type": "stream",
     "text": [
      "决策树在heart disease测试集上的四项指标\n",
      "精度: 0.79\n",
      "查准率: 0.8\n",
      "查全率: 0.81\n",
      "f1值: 0.81\n"
     ]
    }
   ],
   "source": [
    "model = DecisionTreeClassifier(max_depth = 10) # 参数max_depth决定了决策树的最大深度\n",
    "# YOUR CODE HERE\n",
    "\n",
    "prediction = cross_val_predict(model,diseasex,diseasey,cv = 10)\n",
    " \n",
    "acc1 = round(accuracy_score(diseasey,prediction),2)\n",
    "precision1 = round(precision_score(diseasey,prediction),2)\n",
    "recall1 = round(recall_score(diseasey,prediction),2)\n",
    "f1 = round(f1_score(diseasey,prediction),2)\n",
    "\n",
    "print(\"决策树在heart disease测试集上的四项指标\")\n",
    "print(\"精度:\",acc1)\n",
    "print(\"查准率:\",precision1)\n",
    "print(\"查全率:\",recall1)\n",
    "print(\"f1值:\",f1)"
   ]
  },
  {
   "cell_type": "markdown",
   "metadata": {},
   "source": [
    "决策树最大深度为10：  \n",
    "\n",
    "精度 | 查准率 | 查全率 | F1\n",
    "- | - | - | -\n",
    "0.79| 0.8 | 0.81 | 0.81"
   ]
  },
  {
   "cell_type": "code",
   "execution_count": 19,
   "metadata": {},
   "outputs": [
    {
     "name": "stdout",
     "output_type": "stream",
     "text": [
      "决策树在heart disease测试集上的四项指标\n",
      "精度: 0.81\n",
      "查准率: 0.81\n",
      "查全率: 0.85\n",
      "f1值: 0.83\n"
     ]
    }
   ],
   "source": [
    "model = DecisionTreeClassifier(max_depth = 3) # 参数max_depth决定了决策树的最大深度\n",
    "# YOUR CODE HERE\n",
    "\n",
    "prediction = cross_val_predict(model,diseasex,diseasey,cv = 10)\n",
    " \n",
    "acc1 = round(accuracy_score(diseasey,prediction),2)\n",
    "precision1 = round(precision_score(diseasey,prediction),2)\n",
    "recall1 = round(recall_score(diseasey,prediction),2)\n",
    "f1 = round(f1_score(diseasey,prediction),2)\n",
    "\n",
    "print(\"决策树在heart disease测试集上的四项指标\")\n",
    "print(\"精度:\",acc1)\n",
    "print(\"查准率:\",precision1)\n",
    "print(\"查全率:\",recall1)\n",
    "print(\"f1值:\",f1)"
   ]
  },
  {
   "cell_type": "markdown",
   "metadata": {},
   "source": [
    "决策树最大深度为3：  \n",
    "\n",
    "精度 | 查准率 | 查全率 | F1\n",
    "- | - | - | -\n",
    "0.81 | 0.81 | 0.85 | 0.83"
   ]
  },
  {
   "cell_type": "markdown",
   "metadata": {},
   "source": [
    "# 3.决策树深度可视化"
   ]
  },
  {
   "cell_type": "code",
   "execution_count": 18,
   "metadata": {},
   "outputs": [
    {
     "data": {
      "text/plain": [
       "Text(0, 0.5, 'accuracy_score')"
      ]
     },
     "execution_count": 18,
     "metadata": {},
     "output_type": "execute_result"
    },
    {
     "data": {
      "image/png": "[encoded data removed]",
      "text/plain": [
       "<Figure size 432x288 with 1 Axes>"
      ]
     },
     "metadata": {
      "needs_background": "light"
     },
     "output_type": "display_data"
    }
   ],
   "source": [
    "import matplotlib.pyplot as plt\n",
    "%matplotlib inline\n",
    "# YOUR CODE HERE\n",
    "y = []\n",
    "\n",
    "for i in range(10):\n",
    "    model = DecisionTreeClassifier(max_depth = i + 1)\n",
    "    prediction = cross_val_predict(model,diseasex,diseasey,cv=10)\n",
    "    y.append(prediction)\n",
    "    \n",
    "x = np.linspace(1,10,10)\n",
    "test = [accuracy_score(diseasey, val) for val in y]\n",
    "\n",
    "plt.figure()\n",
    "plt.plot(x,test,'-')\n",
    "plt.title(\"DecisionTree's accuracy_score changes with the max_depth\")\n",
    "plt.xlabel(\"max_depth\")    \n",
    "plt.ylabel(\"accuracy_score\")"
   ]
  },
  {
   "cell_type": "markdown",
   "metadata": {},
   "source": [
    "**决策树深度为3时，有最大的精度**"
   ]
  }
 ],
 "metadata": {
  "kernelspec": {
   "display_name": "Python 3",
   "language": "python",
   "name": "python3"
  },
  "language_info": {
   "codemirror_mode": {
    "name": "ipython",
    "version": 3
   },
   "file_extension": ".py",
   "mimetype": "text/x-python",
   "name": "python",
   "nbconvert_exporter": "python",
   "pygments_lexer": "ipython3",
   "version": "3.8.3"
  }
 },
 "nbformat": 4,
 "nbformat_minor": 4
}
